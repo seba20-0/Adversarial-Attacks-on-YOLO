{
 "cells": [
  {
   "cell_type": "markdown",
   "id": "c9cca5c6-81d4-4a7a-922c-2ebea680eeae",
   "metadata": {},
   "source": [
    "> The Basic Iterative Method (BIM) implementation reference to this article: https://www.neuralception.com/adversarialexamples-bim/\n",
    "\n",
    "> This attack method comes from Adversarial examples in the physical world paper."
   ]
  },
  {
   "cell_type": "markdown",
   "id": "2152ad68-f2da-45a6-b515-9db16e3b3536",
   "metadata": {},
   "source": [
    "# Basic Iterative Method (BIM)\n",
    "\n",
    "The Basic Iterative Method (BIM), as described in \"Adversarial Examples in the Physical World,\" is an extension of the Fast Gradient Sign Method (FGSM). Unlike FGSM, which takes a single large step, BIM employs an iterative approach, applying FGSM multiple times to an image. Each iteration modifies the image's pixel values by a small step size α, with the aim of creating a more controlled and subtle adversarial perturbation.\n",
    "\n",
    "## Iterative Approach\n",
    "\n",
    "The iterative nature of BIM allows for more precise control over the perturbation, but it also means that the method is slower compared to single-step techniques like FGSM. Here’s how the BIM process works:\n",
    "\n",
    "1. **Initialization**: Start with a clean image `X` at iteration `N=0`:\n",
    "\n",
    "   ```\n",
    "   X̃0 = X\n",
    "   ```\n",
    "\n",
    "2. **Adversarial Perturbation**:\n",
    "   For each iteration, modify the image using a formula similar to FGSM:\n",
    "\n",
    "   ```\n",
    "   X'1 = X̃0 + α * sign(∇XJ(X̃0, Y_true))\n",
    "   ```\n",
    "\n",
    "   Where `α` is the step size and `∇XJ(X̃0, Y_true)` is the gradient of the loss with respect to the image.\n",
    "\n",
    "3. **Clipping**:\n",
    "   After applying the perturbation, clip the pixel values to ensure they remain within a specific range:\n",
    "\n",
    "   ```\n",
    "   X̃1 = min(255, X + ε, max(0, X - ε, X'1))\n",
    "   ```\n",
    "\n",
    "   This step ensures that all pixel values stay within the bounds defined by `ε`, limiting the maximum perturbation for each pixel.\n",
    "\n",
    "4. **Repeat**:\n",
    "   These steps are repeated for `N` iterations to refine the adversarial example incrementally.\n",
    "\n",
    "## Hyperparameters\n",
    "\n",
    "In their study, the authors suggest specific values for hyperparameters based on their experimental findings:\n",
    "\n",
    "- **Step Size (α)**: `α = 1/255`\n",
    "- **Number of Iterations**: Calculated as the minimum of either `4 + ε/α` or `1.25 * ε/α`\n",
    "\n",
    "The choice of `α` at one pixel intensity value and the method to determine the number of iterations are designed to allow each pixel sufficient steps to achieve maximum adversarial impact within the bounds of `ε`.\n",
    "\n"
   ]
  },
  {
   "cell_type": "markdown",
   "id": "29bdec1a-3fb9-4d9e-91a4-33c474d0b58a",
   "metadata": {},
   "source": [
    "**Epsilon (ε)**: Epsilon controls the maximum perturbation. Larger values of epsilon will allow more significant changes to each pixel, resulting in a more pronounced adversarial effect but potentially losing subtlety. \n",
    "\n",
    "**Alpha (α)**: Alpha controls the step size for each iteration. Ideally, α should be small enough to ensure each step is subtle but large enough to converge within a reasonable number of iterations."
   ]
  }
 ],
 "metadata": {
  "kernelspec": {
   "display_name": "Python 3 (ipykernel)",
   "language": "python",
   "name": "python3"
  },
  "language_info": {
   "codemirror_mode": {
    "name": "ipython",
    "version": 3
   },
   "file_extension": ".py",
   "mimetype": "text/x-python",
   "name": "python",
   "nbconvert_exporter": "python",
   "pygments_lexer": "ipython3",
   "version": "3.11.7"
  }
 },
 "nbformat": 4,
 "nbformat_minor": 5
}
