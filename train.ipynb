{
 "cells": [
  {
   "cell_type": "markdown",
   "metadata": {},
   "source": [
    "# Training YOLOv8s"
   ]
  },
  {
   "cell_type": "markdown",
   "metadata": {},
   "source": [
    "The dataset we will use for this project is the dataset used in this [paper](https://www.semanticscholar.org/paper/Adversarial-Attack-on-Yolov5-for-Traffic-and-Road-Jain/a2778dd6ba81747934db4c08d3b24408c2b078e7).\n",
    "\n",
    "The dataset is publicly available on [roboflow](https://universe.roboflow.com/usmanchaudhry622-gmail-com/traffic-and-road-signs)"
   ]
  },
  {
   "cell_type": "code",
   "execution_count": null,
   "metadata": {
    "vscode": {
     "languageId": "plaintext"
    }
   },
   "outputs": [],
   "source": [
    "# download packages\n",
    "! pip install roboflow ultralytics"
   ]
  },
  {
   "cell_type": "code",
   "execution_count": null,
   "metadata": {
    "vscode": {
     "languageId": "plaintext"
    }
   },
   "outputs": [],
   "source": [
    "# download dataset\n",
    "from roboflow import Roboflow\n",
    "rf = Roboflow(api_key=\"_____\") # add your api key\n",
    "project = rf.workspace(\"usmanchaudhry622-gmail-com\").project(\"traffic-and-road-signs\")\n",
    "version = project.version(1)\n",
    "dataset = version.download(\"yolov8\")"
   ]
  },
  {
   "cell_type": "code",
   "execution_count": null,
   "metadata": {
    "vscode": {
     "languageId": "plaintext"
    }
   },
   "outputs": [],
   "source": [
    "# train yolov8s (small version of the architecture)\n",
    "\n",
    "from ultralytics import YOLO\n",
    "model = YOLO(\"yolov8s.pt\")\n",
    "results = model.train(data=\"Traffic-and-Road-Signs-1/data.yaml\", epochs=300, imgsz=416)"
   ]
  }
 ],
 "metadata": {
  "language_info": {
   "name": "python"
  }
 },
 "nbformat": 4,
 "nbformat_minor": 2
}
